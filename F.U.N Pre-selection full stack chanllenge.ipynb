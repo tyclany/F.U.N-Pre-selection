{
 "cells": [
  {
   "cell_type": "code",
   "execution_count": 57,
   "metadata": {},
   "outputs": [],
   "source": [
    "import requests\n",
    "from bs4 import BeautifulSoup\n",
    "import csv\n",
    "import json\n",
    "from random import randint\n",
    "from random import seed"
   ]
  },
  {
   "cell_type": "code",
   "execution_count": 22,
   "metadata": {},
   "outputs": [],
   "source": [
    "#Using requests to get the website selected in the chanllenge\n",
    "result = requests.get(\"https://cheatsheet.com/gear-style/20-questions-to-ask-siri-for-a-hilarious-response.html/\")\n",
    "#get the content of the webpage\n",
    "src = result.content\n",
    "#use beautifulSoup to find the tag with h2 and write into csv\n",
    "soup = BeautifulSoup(src,'lxml')\n",
    "questions = []\n",
    "with open(\"Questions-to-ask-siri\",'w') as myfile:\n",
    "    for h2_tag in soup.find_all(\"h2\"):\n",
    "        questions.append(h2_tag.get_text())\n",
    "        myfile.write(h2_tag.get_text())\n",
    "        myfile.write('\\n')"
   ]
  },
  {
   "cell_type": "code",
   "execution_count": 61,
   "metadata": {},
   "outputs": [],
   "source": [
    "#generate a random value\n",
    "seed(763)\n",
    "randInt = randint(0,61)"
   ]
  },
  {
   "cell_type": "code",
   "execution_count": 62,
   "metadata": {},
   "outputs": [],
   "source": [
    "#use IFTTT webhook to send email\n",
    "payload = { 'value1': questions[randInt], 'value2': 'https://github.com/tyclany/F.U.N-Pre-selection/blob/master/F.U.N%20Pre-selection%20full%20stack%20chanllenge.ipynb'}\n",
    "requests.post(\"https://maker.ifttt.com/trigger/Full-Stack-Pre-selection-chanllenge/with/key/cbWr5V3gEIIJHUxxRGN3QA\",data=payload)"
   ]
  },
  {
   "cell_type": "code",
   "execution_count": null,
   "metadata": {},
   "outputs": [],
   "source": []
  }
 ],
 "metadata": {
  "kernelspec": {
   "display_name": "Python 3",
   "language": "python",
   "name": "python3"
  },
  "language_info": {
   "codemirror_mode": {
    "name": "ipython",
    "version": 3
   },
   "file_extension": ".py",
   "mimetype": "text/x-python",
   "name": "python",
   "nbconvert_exporter": "python",
   "pygments_lexer": "ipython3",
   "version": "3.8.5"
  }
 },
 "nbformat": 4,
 "nbformat_minor": 4
}
