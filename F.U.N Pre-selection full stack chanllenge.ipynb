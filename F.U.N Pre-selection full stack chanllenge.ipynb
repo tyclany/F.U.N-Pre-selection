{
 "cells": [
  {
   "cell_type": "code",
   "execution_count": 11,
   "metadata": {},
   "outputs": [],
   "source": [
    "import requests\n",
    "from bs4 import BeautifulSoup\n",
    "import csv"
   ]
  },
  {
   "cell_type": "code",
   "execution_count": 19,
   "metadata": {},
   "outputs": [],
   "source": [
    "result = requests.get(\"https://cheatsheet.com/gear-style/20-questions-to-ask-siri-for-a-hilarious-response.html/\")\n",
    "src = result.content\n",
    "soup = BeautifulSoup(src,'lxml')\n",
    "questions = []\n",
    "answers = []\n",
    "with open(\"Questions-to-ask-siri\",'w') as myfile:\n",
    "    for h2_tag in soup.find_all(\"h2\"):\n",
    "        myfile.write(h2_tag.get_text())\n",
    "        myfile.write('\\n')\n"
   ]
  },
  {
   "cell_type": "code",
   "execution_count": null,
   "metadata": {},
   "outputs": [],
   "source": [
    "payload = {''}"
   ]
  },
  {
   "cell_type": "code",
   "execution_count": 21,
   "metadata": {},
   "outputs": [
    {
     "data": {
      "text/plain": [
       "<Response [200]>"
      ]
     },
     "execution_count": 21,
     "metadata": {},
     "output_type": "execute_result"
    }
   ],
   "source": [
    "requests.post(\"https://maker.ifttt.com/trigger/send_email_prep/with/key/cbWr5V3gEIIJHUxxRGN3QA\")\n"
   ]
  },
  {
   "cell_type": "code",
   "execution_count": null,
   "metadata": {},
   "outputs": [],
   "source": []
  }
 ],
 "metadata": {
  "kernelspec": {
   "display_name": "Python 3",
   "language": "python",
   "name": "python3"
  },
  "language_info": {
   "codemirror_mode": {
    "name": "ipython",
    "version": 3
   },
   "file_extension": ".py",
   "mimetype": "text/x-python",
   "name": "python",
   "nbconvert_exporter": "python",
   "pygments_lexer": "ipython3",
   "version": "3.8.5"
  }
 },
 "nbformat": 4,
 "nbformat_minor": 4
}
